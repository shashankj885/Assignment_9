{
 "cells": [
  {
   "cell_type": "markdown",
   "id": "107c314a",
   "metadata": {},
   "source": [
    "Ans1-A relative path in Python is a path that describes the location of a directory relative to the entry point where you run the Python script."
   ]
  },
  {
   "cell_type": "markdown",
   "id": "ecd708da",
   "metadata": {},
   "source": [
    "Ans2-An absolute path is defined as the specifying the location of a file or directory from the root directory(/). In other words we can say absolute path is a complete path from start of actual filesystem from / directory"
   ]
  },
  {
   "cell_type": "markdown",
   "id": "50beb2fe",
   "metadata": {},
   "source": [
    "Ans3-The os.getcwd() function returns the current working directory. The os.chdir() function changes the current working directory\n"
   ]
  },
  {
   "cell_type": "markdown",
   "id": "62686773",
   "metadata": {},
   "source": [
    "Ans4-The . folder is the current folder, and .. is the parent folder"
   ]
  },
  {
   "cell_type": "markdown",
   "id": "5ab48ca8",
   "metadata": {},
   "source": [
    "Ans5-C:\\bacon\\eggs is the dir name, while spam.txt is the base name."
   ]
  },
  {
   "cell_type": "markdown",
   "id": "add7a532",
   "metadata": {},
   "source": [
    "Ans6-\n",
    "a)   r: Opens the file in read-only mode. Starts reading from the beginning of the file and is the default mode for the open() function."
   ]
  },
  {
   "cell_type": "markdown",
   "id": "dc6df6c2",
   "metadata": {},
   "source": [
    "b) w: Opens in write-only mode"
   ]
  },
  {
   "cell_type": "markdown",
   "id": "abc34265",
   "metadata": {},
   "source": [
    "c) r+: Opens a file for reading and writing, placing the pointer at the beginning of the file.\n"
   ]
  },
  {
   "cell_type": "markdown",
   "id": "969704c3",
   "metadata": {},
   "source": [
    "Ans7- Ans: An existing file opened in write mode is erased and completely overwritten\n",
    "\n"
   ]
  },
  {
   "cell_type": "markdown",
   "id": "b0ff6fd8",
   "metadata": {},
   "source": [
    "Ans8-The only difference between the Read() and ReadLine() is that Console. Read is used to read only single character from the standard output device, while Console. ReadLine is used to read a line or string from the standard output device."
   ]
  },
  {
   "cell_type": "markdown",
   "id": "0263ee47",
   "metadata": {},
   "source": [
    "Ans9- shelf value resembles a dictionary value. it has keys and values, along with keys() and values() methods that work similarly to the dictionary methods of the same names"
   ]
  }
 ],
 "metadata": {
  "kernelspec": {
   "display_name": "Python 3 (ipykernel)",
   "language": "python",
   "name": "python3"
  },
  "language_info": {
   "codemirror_mode": {
    "name": "ipython",
    "version": 3
   },
   "file_extension": ".py",
   "mimetype": "text/x-python",
   "name": "python",
   "nbconvert_exporter": "python",
   "pygments_lexer": "ipython3",
   "version": "3.9.12"
  }
 },
 "nbformat": 4,
 "nbformat_minor": 5
}
